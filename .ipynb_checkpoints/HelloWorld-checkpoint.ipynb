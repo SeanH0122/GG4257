{
 "cells": [
  {
   "cell_type": "code",
   "execution_count": 1,
   "id": "b686e921-6cfa-4b4e-bb65-24bfd83af7ba",
   "metadata": {},
   "outputs": [
    {
     "name": "stdout",
     "output_type": "stream",
     "text": [
      "Hello, world!\n"
     ]
    }
   ],
   "source": [
    "print(\"Hello, world!\")"
   ]
  },
  {
   "cell_type": "markdown",
   "id": "b9b92341-9cc9-4c3b-94ab-1036ce7e1e8a",
   "metadata": {},
   "source": [
    "## My First Markdown Heading"
   ]
  },
  {
   "cell_type": "markdown",
   "id": "05904979-3a09-4691-bf86-9b3a52f12c17",
   "metadata": {},
   "source": [
    "This is some **bold** text"
   ]
  },
  {
   "cell_type": "markdown",
   "id": "cac0fa58-d84c-4026-be8a-5d36ed1c392c",
   "metadata": {},
   "source": [
    "1. First item\n",
    "2. Second item\n",
    "3. Third item"
   ]
  },
  {
   "cell_type": "code",
   "execution_count": 3,
   "id": "6b52629b-8ca2-4d19-ab9e-2d2557bd7fc7",
   "metadata": {},
   "outputs": [],
   "source": [
    "my_var = 5"
   ]
  },
  {
   "cell_type": "code",
   "execution_count": 4,
   "id": "4b7fcb10-b5d2-4a11-a65b-33d7829ceda5",
   "metadata": {},
   "outputs": [],
   "source": [
    "result = my_var * 2"
   ]
  },
  {
   "cell_type": "code",
   "execution_count": 5,
   "id": "178cc6f9-bb5c-4326-877d-7ed7b0926691",
   "metadata": {},
   "outputs": [
    {
     "name": "stdout",
     "output_type": "stream",
     "text": [
      "10\n"
     ]
    }
   ],
   "source": [
    "print(result)"
   ]
  },
  {
   "cell_type": "markdown",
   "id": "a44f1f54-af15-4bb5-ac99-cd630880950d",
   "metadata": {},
   "source": [
    "# Additional update"
   ]
  },
  {
   "cell_type": "markdown",
   "id": "e6429956-4dc8-44f8-aa49-a379e9717b90",
   "metadata": {},
   "source": [
    "# New Update"
   ]
  },
  {
   "cell_type": "code",
   "execution_count": null,
   "id": "2c30b827-2e4e-43b2-879b-b1478dbad7fb",
   "metadata": {},
   "outputs": [],
   "source": []
  }
 ],
 "metadata": {
  "kernelspec": {
   "display_name": "Python 3 (ipykernel)",
   "language": "python",
   "name": "python3"
  },
  "language_info": {
   "codemirror_mode": {
    "name": "ipython",
    "version": 3
   },
   "file_extension": ".py",
   "mimetype": "text/x-python",
   "name": "python",
   "nbconvert_exporter": "python",
   "pygments_lexer": "ipython3",
   "version": "3.11.6"
  }
 },
 "nbformat": 4,
 "nbformat_minor": 5
}
