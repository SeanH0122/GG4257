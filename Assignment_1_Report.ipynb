{
 "cells": [
  {
   "cell_type": "markdown",
   "id": "1a2fcf9b-3362-472f-84f1-d53b94d56b81",
   "metadata": {},
   "source": [
    "# GG4257 - Urban Analytics: A Toolkit for Sustainable Urban Development\n"
   ]
  },
  {
   "cell_type": "code",
   "execution_count": null,
   "id": "1c458d93-b5f8-4b7e-8243-bac037436272",
   "metadata": {},
   "outputs": [],
   "source": []
  }
 ],
 "metadata": {
  "kernelspec": {
   "display_name": "Python 3 (ipykernel)",
   "language": "python",
   "name": "python3"
  },
  "language_info": {
   "codemirror_mode": {
    "name": "ipython",
    "version": 3
   },
   "file_extension": ".py",
   "mimetype": "text/x-python",
   "name": "python",
   "nbconvert_exporter": "python",
   "pygments_lexer": "ipython3",
   "version": "3.11.6"
  }
 },
 "nbformat": 4,
 "nbformat_minor": 5
}
